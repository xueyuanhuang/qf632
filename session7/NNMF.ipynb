{
 "cells": [
  {
   "cell_type": "markdown",
   "id": "cafa9fbe",
   "metadata": {},
   "source": [
    "Non-negative Matrix Factorization (NMF) is a useful technique for dimensionality reduction and has applications in recommendation systems. \n",
    "\n",
    "NMF is a group of algorithms in multivariate analysis and linear algebra where a matrix \n",
    "𝑉 is factorized into (usually) two matrices 𝑊 and 𝐻, with the property that all three matrices have no negative elements. This factorization is useful in the context of recommendation systems because it can help to identify the underlying structure of user-item interactions.\n",
    "\n",
    "Example: Movie Recommendation System\n",
    "Let's consider a simple example using movie ratings data. We'll use a small dataset to demonstrate how NMF can be used to predict user preferences.\n",
    "\n",
    "1. Step-by-Step Implementation\n",
    "2. Import Libraries\n",
    "3. Create a Sample Data Matrix\n",
    "4. Apply NMF\n",
    "5. Make Predictions"
   ]
  },
  {
   "cell_type": "code",
   "execution_count": 1,
   "id": "0085e4e8",
   "metadata": {},
   "outputs": [
    {
     "name": "stdout",
     "output_type": "stream",
     "text": [
      "Original Ratings Matrix:\n",
      "       Movie1  Movie2  Movie3  Movie4\n",
      "User1       5       3       0       1\n",
      "User2       4       0       0       1\n",
      "User3       1       1       0       5\n",
      "User4       1       0       0       4\n",
      "User5       0       1       5       4\n"
     ]
    }
   ],
   "source": [
    "import numpy as np\n",
    "import pandas as pd\n",
    "from sklearn.decomposition import NMF\n",
    "from sklearn.metrics import mean_squared_error\n",
    "\n",
    "# Create a small matrix where rows represent users and columns represent movies. \n",
    "# The entries are ratings given by users to the movies.\n",
    "data = np.array([\n",
    "    [5, 3, 0, 1],\n",
    "    [4, 0, 0, 1],\n",
    "    [1, 1, 0, 5],\n",
    "    [1, 0, 0, 4],\n",
    "    [0, 1, 5, 4],\n",
    "])\n",
    "\n",
    "# Convert to DataFrame for better visualization\n",
    "df = pd.DataFrame(data, columns=['Movie1', 'Movie2', 'Movie3', 'Movie4'], index=['User1', 'User2', 'User3', 'User4', 'User5'])\n",
    "print(\"Original Ratings Matrix:\")\n",
    "print(df)\n"
   ]
  },
  {
   "cell_type": "code",
   "execution_count": 2,
   "id": "9f62a820",
   "metadata": {},
   "outputs": [
    {
     "name": "stdout",
     "output_type": "stream",
     "text": [
      "User-Feature Matrix (W):\n",
      "[[3.56439707 0.        ]\n",
      " [2.37654951 0.        ]\n",
      " [0.89050141 1.23178233]\n",
      " [0.66556354 0.96517217]\n",
      " [0.         1.79451388]]\n",
      "Feature-Movie Matrix (H):\n",
      "[[1.47452258 0.55917555 0.         0.40826028]\n",
      " [0.         0.36226565 1.58270795 2.90831012]]\n"
     ]
    }
   ],
   "source": [
    "# Apply NMF\n",
    "# We'll factorize the matrix into two matrices 𝑊 and 𝐻 using NMF.\n",
    "# Set the number of components (latent features)\n",
    "\n",
    "# Matrix 𝑊 is known as the user-feature matrix. Each row in \n",
    "# 𝑊 represents a user, and each column represents a latent feature. The elements of \n",
    "# 𝑊 indicate the strength of the association between users and these latent features.\n",
    "# each row corresponds to a user, and each column corresponds to a latent feature. \n",
    "# The values indicate how strongly a user is associated with each latent feature.\n",
    "\n",
    "# Matrix 𝐻 is known as the feature-movie matrix. Each row in \n",
    "# 𝐻 represents a latent feature, and each column represents a movie. The elements of \n",
    "# 𝐻 indicate the strength of the association between latent features and movies.\n",
    "# each row corresponds to a latent feature, and each column corresponds to a movie. \n",
    "# The values indicate how strongly each latent feature is associated with each movie.\n",
    "\n",
    "# Interpreting the Matrices\n",
    "# Matrix 𝑊: User-Feature Associations: Each user is represented as a combination of latent features. \n",
    "# For instance, User1 has certain associations with the two latent features.\n",
    "# Matrix 𝐻: Feature-Movie Associations: Each movie is represented as a combination of latent features. \n",
    "# For instance, Movie1 has certain associations with the two latent features.\n",
    "\n",
    "n_components = 2\n",
    "\n",
    "# Initialize the NMF model\n",
    "model = NMF(n_components=n_components, init='random', random_state=42)\n",
    "\n",
    "# Fit the model to the data\n",
    "W = model.fit_transform(data)\n",
    "H = model.components_\n",
    "\n",
    "print(\"User-Feature Matrix (W):\")\n",
    "print(W)\n",
    "\n",
    "print(\"Feature-Movie Matrix (H):\")\n",
    "print(H)\n"
   ]
  },
  {
   "cell_type": "code",
   "execution_count": 3,
   "id": "57b2bae7",
   "metadata": {},
   "outputs": [
    {
     "name": "stdout",
     "output_type": "stream",
     "text": [
      "Reconstructed Ratings Matrix:\n",
      "         Movie1    Movie2    Movie3    Movie4\n",
      "User1  5.255784  1.993124  0.000000  1.455202\n",
      "User2  3.504276  1.328908  0.000000  0.970251\n",
      "User3  1.313064  0.944179  1.949552  3.945961\n",
      "User4  0.981388  0.721816  1.527586  3.078743\n",
      "User5  0.000000  0.650091  2.840191  5.219003\n",
      "Reconstruction Error: 0.9144353703891276\n"
     ]
    }
   ],
   "source": [
    "# To predict the missing values in the original matrix, we multiply \n",
    "# 𝑊 and 𝐻 to reconstruct the approximate original matrix:\n",
    "# 𝑉 ≈ 𝑊 × 𝐻\n",
    "\n",
    "# Make predictions\n",
    "# Reconstruct the original matrix\n",
    "reconstructed_matrix = np.dot(W, H)\n",
    "\n",
    "# Convert to DataFrame for better visualization\n",
    "reconstructed_df = pd.DataFrame(reconstructed_matrix, columns=['Movie1', 'Movie2', 'Movie3', 'Movie4'], index=['User1', 'User2', 'User3', 'User4', 'User5'])\n",
    "print(\"Reconstructed Ratings Matrix:\")\n",
    "print(reconstructed_df)\n",
    "\n",
    "# Calculate the reconstruction error\n",
    "error = mean_squared_error(data, reconstructed_matrix)\n",
    "print(f\"Reconstruction Error: {error}\")\n"
   ]
  },
  {
   "cell_type": "markdown",
   "id": "6a4a66e8",
   "metadata": {},
   "source": [
    "Possible Interpretations of Latent Features\n",
    "Genre Preferences\n",
    "\n",
    "Feature 1: May correspond to a preference for action movies.\n",
    "Feature 2: May correspond to a preference for romantic comedies.\n",
    "Each user and movie can have varying degrees of association with these genres. For example, a user who prefers action movies will have a higher value for Feature 1 in their \n",
    "𝑊\n",
    "W matrix representation.\n",
    "Movie Themes\n",
    "\n",
    "Feature 1: May represent a preference for movies with strong heroic themes.\n",
    "Feature 2: May represent a preference for movies with complex storylines.\n",
    "Users who enjoy heroic themes will have higher weights for Feature 1, and movies with these themes will also have higher weights for Feature 1 in the \n",
    "𝐻\n",
    "H matrix.\n",
    "Directorial Styles\n",
    "\n",
    "Feature 1: May reflect a liking for movies directed by certain directors known for a specific style.\n",
    "Feature 2: May reflect a liking for movies with a unique visual style.\n",
    "Users and movies can be associated with these styles, indicating preferences for certain directors or visual elements.\n",
    "Actor Preferences\n",
    "\n",
    "Feature 1: May represent a preference for movies featuring a particular actor or set of actors.\n",
    "Feature 2: May represent a preference for ensemble casts.\n",
    "Users who prefer movies with certain actors will have higher weights for the corresponding feature.\n",
    "Movie Length or Complexity\n",
    "\n",
    "Feature 1: May indicate a preference for shorter, simpler movies.\n",
    "Feature 2: May indicate a preference for longer, more complex movies.\n",
    "Users and movies are categorized based on the length and complexity, with higher weights for the preferred type."
   ]
  },
  {
   "cell_type": "code",
   "execution_count": 4,
   "id": "78fa98a6",
   "metadata": {},
   "outputs": [
    {
     "ename": "SyntaxError",
     "evalue": "invalid syntax (2551803083.py, line 1)",
     "output_type": "error",
     "traceback": [
      "\u001b[1;36m  Cell \u001b[1;32mIn[4], line 1\u001b[1;36m\u001b[0m\n\u001b[1;33m    User-Feature Matrix (W):\u001b[0m\n\u001b[1;37m                 ^\u001b[0m\n\u001b[1;31mSyntaxError\u001b[0m\u001b[1;31m:\u001b[0m invalid syntax\n"
     ]
    }
   ],
   "source": [
    "# User-Feature Matrix (W):\n",
    "[[0.50712611 1.73855016]  # User1 prefers critically acclaimed, story-driven movies\n",
    " [0.34179519 1.31863799]  # User2 has a slight preference for story-driven movies\n",
    " [2.23307829 0.01402468]  # User3 prefers action-packed, high-budget movies\n",
    " [1.78944285 0.00479843]  # User4 strongly prefers action-packed movies\n",
    " [0.03515571 1.87399994]] # User5 strongly prefers story-driven movies\n",
    "\n",
    "# Feature-Movie Matrix (H):\n",
    "[[0.02886567 0.0128776  1.79073088 1.94308634]  # Feature 1 (Action-packed)\n",
    " [2.84933456 1.67911686 0.00785518 0.01622395]] # Feature 2 (Story-driven)\n"
   ]
  },
  {
   "cell_type": "markdown",
   "id": "1acc2591",
   "metadata": {},
   "source": [
    "Interpretation\n",
    "Movie1: Low values in both features, might be a documentary or a niche genre.\n",
    "Movie2: Low values in both features, similar to Movie1.\n",
    "Movie3: High value in Feature 1, suggesting it's an action-packed, high-budget movie.\n",
    "Movie4: High value in Feature 1, also suggesting it's an action-packed movie.\n",
    "Using These Interpretations\n",
    "When making recommendations:\n",
    "\n",
    "For User1 (story-driven preference): Movies like Movie4 (high in Feature 2) would be recommended.\n",
    "For User3 (action-packed preference): Movies like Movie3 and Movie4 (high in Feature 1) would be recommended.\n",
    "Summary\n",
    "Latent features in NMF capture hidden patterns in the data that influence user preferences and item characteristics. These features can represent various abstract concepts like genres, themes, directorial styles, or other attributes that aren't directly labeled in the dataset. By interpreting these features, we can better understand user preferences and make more accurate recommendations."
   ]
  }
 ],
 "metadata": {
  "kernelspec": {
   "display_name": "Python 3 (ipykernel)",
   "language": "python",
   "name": "python3"
  },
  "language_info": {
   "codemirror_mode": {
    "name": "ipython",
    "version": 3
   },
   "file_extension": ".py",
   "mimetype": "text/x-python",
   "name": "python",
   "nbconvert_exporter": "python",
   "pygments_lexer": "ipython3",
   "version": "3.11.7"
  }
 },
 "nbformat": 4,
 "nbformat_minor": 5
}
